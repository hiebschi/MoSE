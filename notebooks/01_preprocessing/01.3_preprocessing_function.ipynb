{
 "cells": [
  {
   "cell_type": "markdown",
   "metadata": {
    "id": "ZZQ_Gx_rrKju"
   },
   "source": [
    "\n",
    "# **1.3 Preprocessing function for U-Net Segmentation Model**\n",
    "\n",
    "FIRST PART: **LOCAL**  \n",
    "data on local/ extern SSD  \n",
    "\n",
    "SECOND PART: **SC INFRASTRUCTURE**   \n",
    "data in personal workspace\n"
   ]
  },
  {
   "cell_type": "markdown",
   "metadata": {},
   "source": [
    "**!!! ATTENTION !!!**    \n",
    "Select right Kernel/Environment with PyTorch installed: `pytorch_env_pyth311`"
   ]
  },
  {
   "cell_type": "markdown",
   "metadata": {},
   "source": [
    "## 1. Preparations\n",
    "### 1.1 Install required packages"
   ]
  },
  {
   "cell_type": "code",
   "execution_count": 2,
   "metadata": {},
   "outputs": [
    {
     "name": "stdout",
     "output_type": "stream",
     "text": [
      "Python 3.11.11\n",
      "c:\\Users\\simon\\anaconda3\\envs\\pytorch_env_pyth311\\python.exe\n",
      "C:\\Users\\simon\\AppData\\Local\\Microsoft\\WindowsApps\\python.exe\n"
     ]
    }
   ],
   "source": [
    "# check current python version and environment\n",
    "!python --version\n",
    "!where python "
   ]
  },
  {
   "cell_type": "code",
   "execution_count": 3,
   "metadata": {},
   "outputs": [],
   "source": [
    "# import required packages\n",
    "import json\n",
    "import os\n",
    "import geopandas as gpd\n",
    "import matplotlib.pyplot as plt\n",
    "import numpy as np"
   ]
  },
  {
   "cell_type": "code",
   "execution_count": 4,
   "metadata": {},
   "outputs": [],
   "source": [
    "# !pip install segmentation-models-pytorch"
   ]
  },
  {
   "cell_type": "code",
   "execution_count": 5,
   "metadata": {},
   "outputs": [
    {
     "name": "stderr",
     "output_type": "stream",
     "text": [
      "c:\\Users\\simon\\anaconda3\\envs\\pytorch_env_pyth311\\Lib\\site-packages\\tqdm\\auto.py:21: TqdmWarning: IProgress not found. Please update jupyter and ipywidgets. See https://ipywidgets.readthedocs.io/en/stable/user_install.html\n",
      "  from .autonotebook import tqdm as notebook_tqdm\n"
     ]
    }
   ],
   "source": [
    "# import segmentation models module\n",
    "import segmentation_models_pytorch as smp"
   ]
  },
  {
   "cell_type": "markdown",
   "metadata": {},
   "source": [
    "### 1.2 Load data"
   ]
  },
  {
   "cell_type": "code",
   "execution_count": 6,
   "metadata": {},
   "outputs": [],
   "source": [
    "# Data directories on external SSD   # -------------------->> ADJUSTABLE\n",
    "# npy patches\n",
    "patches_raw_dir = r'D:\\MoSE\\preprocessing\\patches_raw'\n",
    "# masks\n",
    "masks_dir = r'D:\\MoSE\\preprocessing\\masks'\n",
    "# JSON class codes\n",
    "codes_dir = r'D:\\MoSE\\preprocessing\\codes'\n",
    "# Shapefile class labels\n",
    "labels_dir = r'C:\\Users\\simon\\Meine Ablage\\Dokumente.GD\\FS06 SS24\\BACHELORARBEIT\\MoSE\\data\\shapefiles'"
   ]
  },
  {
   "cell_type": "code",
   "execution_count": 7,
   "metadata": {},
   "outputs": [
    {
     "name": "stdout",
     "output_type": "stream",
     "text": [
      "{'Totholz': 1, 'Wurzelstock': 2, 'Sand_Schlammbank': 3, 'Schotterbank': 4}\n"
     ]
    },
    {
     "data": {
      "text/plain": [
       "4"
      ]
     },
     "execution_count": 7,
     "metadata": {},
     "output_type": "execute_result"
    }
   ],
   "source": [
    "# Class codes\n",
    "# path\n",
    "label_codes_path = os.path.join(codes_dir, \"label_codes.json\")   # -------------------->> ADJUSTABLE\n",
    "\n",
    "# Open and load the JSON file\n",
    "with open(label_codes_path, \"r\") as json_file:\n",
    "    label_codes = json.load(json_file)\n",
    "\n",
    "print(label_codes)\n",
    "len(label_codes)"
   ]
  },
  {
   "cell_type": "markdown",
   "metadata": {},
   "source": [
    "## 2. Chosen segmentation model"
   ]
  },
  {
   "cell_type": "code",
   "execution_count": 8,
   "metadata": {},
   "outputs": [],
   "source": [
    "model = smp.Unet(   # -------------------->> ADJUSTABLE\n",
    "    encoder_name=\"resnet18\",        # choose encoder, e.g. mobilenet_v2 or efficientnet-b7\n",
    "    encoder_weights=\"imagenet\",     # use `imagenet` pre-trained weights for encoder initialization\n",
    "    in_channels=3,                  # model input channels (3 for RGB)\n",
    "    classes=len(label_codes),       # model output channels (number of classes)\n",
    ")"
   ]
  },
  {
   "cell_type": "markdown",
   "metadata": {},
   "source": [
    "## 3. Configure data preprocessing\n",
    "\n",
    "Configure data preprocessing function (preprocess_input) for a specific model (encoder):\n",
    "\n",
    "`from segmentation_models_pytorch.encoders import get_preprocessing_fn`\n",
    "\n",
    "`preprocess_input = get_preprocessing_fn('resnet18', pretrained='imagenet')`\n",
    "\n",
    "Encoder = the part of the neural network that extracts features from the input data (in this case the pre-trained model “resnet” on ImageNet)     \n",
    "Pretraining = encoder already trained on a large dataset (e.g. ImageNet) > can recognize useful features\n",
    "\n",
    "Why data preprocessing is necessary:\n",
    "- During the training of the pre-trained weights (e.g. on ImageNet), specific pre-processing was applied to the images, e.g. normalization, resizing or color space conversion.\n",
    "- To achieve the best possible performance with the pre-trained weights, the input data should be preprocessed in the same way as it was done during the pre-training.\n",
    "\n",
    "What `get_preprocessing_fn` does:\n",
    "This function returns a preprocessing function (preprocess_input) that performs the exact same transformations that were applied to the ImageNet dataset during pretraining."
   ]
  },
  {
   "cell_type": "code",
   "execution_count": 9,
   "metadata": {},
   "outputs": [],
   "source": [
    "from segmentation_models_pytorch.encoders import get_preprocessing_fn\n",
    "\n",
    "preprocess_input = get_preprocessing_fn('resnet18', pretrained='imagenet') # load specific (suitable to chosen model) preprocessing function"
   ]
  },
  {
   "cell_type": "code",
   "execution_count": 10,
   "metadata": {},
   "outputs": [],
   "source": [
    "# create output directory for preprocessed patches\n",
    "output_pre_patches_dir = r'D:\\MoSE\\preprocessing\\patches_pre'\n",
    "\n",
    "if not os.path.exists(output_pre_patches_dir):\n",
    "    os.makedirs(output_pre_patches_dir)"
   ]
  },
  {
   "cell_type": "code",
   "execution_count": 11,
   "metadata": {},
   "outputs": [
    {
     "name": "stdout",
     "output_type": "stream",
     "text": [
      "File does exist!\n"
     ]
    }
   ],
   "source": [
    "patches_list = [f for f in os.listdir(patches_raw_dir)]  # list of all patches\n",
    "# patches_list\n",
    "\n",
    "if 'A08_patch_23.npy' in patches_list:\n",
    "    print(\"File does exist!\")"
   ]
  },
  {
   "cell_type": "code",
   "execution_count": 12,
   "metadata": {},
   "outputs": [
    {
     "name": "stdout",
     "output_type": "stream",
     "text": [
      "Processed 0/3837 patches\n",
      "Processed 100/3837 patches\n",
      "Processed 200/3837 patches\n",
      "Processed 300/3837 patches\n",
      "Processed 400/3837 patches\n",
      "Processed 500/3837 patches\n",
      "Processed 600/3837 patches\n",
      "Processed 700/3837 patches\n",
      "Processed 800/3837 patches\n",
      "Processed 900/3837 patches\n",
      "Processed 1000/3837 patches\n",
      "Processed 1100/3837 patches\n",
      "Processed 1200/3837 patches\n",
      "Processed 1300/3837 patches\n",
      "Processed 1400/3837 patches\n",
      "Processed 1500/3837 patches\n",
      "Processed 1600/3837 patches\n",
      "Processed 1700/3837 patches\n",
      "Processed 1800/3837 patches\n",
      "Processed 1900/3837 patches\n",
      "Processed 2000/3837 patches\n",
      "Processed 2100/3837 patches\n",
      "Processed 2200/3837 patches\n",
      "Processed 2300/3837 patches\n",
      "Processed 2400/3837 patches\n",
      "Processed 2500/3837 patches\n",
      "Processed 2600/3837 patches\n",
      "Processed 2700/3837 patches\n",
      "Processed 2800/3837 patches\n",
      "Processed 2900/3837 patches\n",
      "Processed 3000/3837 patches\n",
      "Processed 3100/3837 patches\n",
      "Processed 3200/3837 patches\n",
      "Processed 3300/3837 patches\n",
      "Processed 3400/3837 patches\n",
      "Processed 3500/3837 patches\n",
      "Processed 3600/3837 patches\n",
      "Processed 3700/3837 patches\n",
      "Processed 3800/3837 patches\n"
     ]
    }
   ],
   "source": [
    "# PREPROCESSING LOOP\n",
    "\n",
    "for idx, patch_name in enumerate(patches_list): # iterate over all patches\n",
    "    patch_path = os.path.join(patches_raw_dir, patch_name)  # path to specific patch\n",
    "    patch = np.load(patch_path, allow_pickle= True)  # load npy file as dictionary object (allow pickle = True)\n",
    "    image_data = patch.item().get('image')   # extract image key from dictionary\n",
    "\n",
    "    # print(f\"Processing patch {idx + 1}/{len(patches_list)}: {patch_name}\")\n",
    "    # print(image_data.shape)\n",
    "\n",
    "    # check if image has the right shape: [height, width, color channels]\n",
    "    if image_data.shape[0] in [1, 3]:  # shape is: [C, H, W]\n",
    "        image_data = image_data.transpose(1, 2, 0)  # [H, W, C]\n",
    "    # print(image_data.shape)\n",
    "\n",
    "    # use the preprocessing function\n",
    "    preprocessed_image_data = preprocess_input(image_data)\n",
    "\n",
    "    # transpose back to [C, H, W]\n",
    "    preprocessed_image_data = preprocessed_image_data.transpose(2, 0, 1)\n",
    "\n",
    "    # save preprocessed patch\n",
    "    output_path = os.path.join(output_pre_patches_dir, patch_name)\n",
    "    np.savez_compressed(output_path, preprocessed_image_data)\n",
    "\n",
    "    # display progress\n",
    "    if idx % 100 == 0:\n",
    "        print(f\"Processed {idx}/{len(patches_list)} patches\")"
   ]
  },
  {
   "cell_type": "markdown",
   "metadata": {},
   "source": [
    "## 4. Unzip .npz-patches\n",
    "\n",
    "**CHANGE TO SC INFRASTRUCTURE**"
   ]
  },
  {
   "cell_type": "code",
   "execution_count": null,
   "metadata": {},
   "outputs": [],
   "source": [
    "# new paths to workspace data\n"
   ]
  },
  {
   "cell_type": "markdown",
   "metadata": {},
   "source": [
    "## 5. Check if preprocessing worked"
   ]
  },
  {
   "cell_type": "code",
   "execution_count": 14,
   "metadata": {},
   "outputs": [],
   "source": [
    "SECTION = \"A01\"\n",
    "TEST_PATCH_ID = 100 # -------------------->> ADJUSTABLE"
   ]
  },
  {
   "cell_type": "code",
   "execution_count": null,
   "metadata": {},
   "outputs": [],
   "source": [
    "# preprocessed patch path\n",
    "preprocessed_patch_path = output_pre_patches_dir + f\"/{SECTION}_patch_{TEST_PATCH_ID}.npy\"\n",
    "\n",
    "# load NumpyArray (NO DICTIONARY ANYMORE)\n",
    "preprocessed_patch = np.load(preprocessed_patch_path)"
   ]
  },
  {
   "cell_type": "code",
   "execution_count": 18,
   "metadata": {},
   "outputs": [
    {
     "ename": "AttributeError",
     "evalue": "'NpzFile' object has no attribute 'transpose'",
     "output_type": "error",
     "traceback": [
      "\u001b[1;31m---------------------------------------------------------------------------\u001b[0m",
      "\u001b[1;31mAttributeError\u001b[0m                            Traceback (most recent call last)",
      "Cell \u001b[1;32mIn[18], line 3\u001b[0m\n\u001b[0;32m      1\u001b[0m \u001b[38;5;66;03m# plot the preprocessed image\u001b[39;00m\n\u001b[0;32m      2\u001b[0m fig, ax \u001b[38;5;241m=\u001b[39m plt\u001b[38;5;241m.\u001b[39msubplots(figsize\u001b[38;5;241m=\u001b[39m(\u001b[38;5;241m8\u001b[39m, \u001b[38;5;241m8\u001b[39m))\n\u001b[1;32m----> 3\u001b[0m ax\u001b[38;5;241m.\u001b[39mimshow(\u001b[43mpreprocessed_patch\u001b[49m\u001b[38;5;241;43m.\u001b[39;49m\u001b[43mtranspose\u001b[49m(\u001b[38;5;241m1\u001b[39m, \u001b[38;5;241m2\u001b[39m, \u001b[38;5;241m0\u001b[39m))  \u001b[38;5;66;03m# transpose for RGB depiction\u001b[39;00m\n\u001b[0;32m      4\u001b[0m ax\u001b[38;5;241m.\u001b[39mset_title(\u001b[38;5;124m\"\u001b[39m\u001b[38;5;124mPreprocessed NumpyArray Patch\u001b[39m\u001b[38;5;124m\"\u001b[39m)\n\u001b[0;32m      5\u001b[0m plt\u001b[38;5;241m.\u001b[39mshow()\n",
      "\u001b[1;31mAttributeError\u001b[0m: 'NpzFile' object has no attribute 'transpose'"
     ]
    },
    {
     "data": {
      "image/png": "[encoded data removed]",
      "text/plain": [
       "<Figure size 800x800 with 1 Axes>"
      ]
     },
     "metadata": {},
     "output_type": "display_data"
    }
   ],
   "source": [
    "# plot the preprocessed image\n",
    "fig, ax = plt.subplots(figsize=(8, 8))\n",
    "ax.imshow(preprocessed_patch.transpose(1, 2, 0))  # transpose for RGB depiction\n",
    "ax.set_title(\"Preprocessed NumpyArray Patch\")\n",
    "plt.show()"
   ]
  },
  {
   "cell_type": "code",
   "execution_count": null,
   "metadata": {},
   "outputs": [],
   "source": []
  }
 ],
 "metadata": {
  "colab": {
   "authorship_tag": "ABX9TyNvfmeo4e4XEBxtALEWuyJt",
   "provenance": []
  },
  "kernelspec": {
   "display_name": "pytorch_env_pyth311",
   "language": "python",
   "name": "python3"
  },
  "language_info": {
   "codemirror_mode": {
    "name": "ipython",
    "version": 3
   },
   "file_extension": ".py",
   "mimetype": "text/x-python",
   "name": "python",
   "nbconvert_exporter": "python",
   "pygments_lexer": "ipython3",
   "version": "3.11.11"
  }
 },
 "nbformat": 4,
 "nbformat_minor": 0
}
