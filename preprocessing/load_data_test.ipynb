{
 "cells": [
  {
   "cell_type": "markdown",
   "metadata": {
    "id": "jmBcSHVaZOeH"
   },
   "source": [
    "# TEST: Load data for the first time"
   ]
  },
  {
   "cell_type": "markdown",
   "metadata": {
    "id": "73gRAYfcZ2Fu"
   },
   "source": [
    "## 1. Load GeoTIFF"
   ]
  },
  {
   "cell_type": "code",
   "execution_count": null,
   "metadata": {},
   "outputs": [],
   "source": [
    "# Test change"
   ]
  },
  {
   "cell_type": "code",
   "execution_count": 3,
   "metadata": {
    "colab": {
     "base_uri": "https://localhost:8080/"
    },
    "executionInfo": {
     "elapsed": 5972,
     "status": "ok",
     "timestamp": 1732271450760,
     "user": {
      "displayName": "hiebschi",
      "userId": "08465626496872948421"
     },
     "user_tz": -60
    },
    "id": "AI3HNw0IZajW",
    "outputId": "47afe93a-5bc0-4fc3-c415-bd2b306a4460"
   },
   "outputs": [
    {
     "name": "stdout",
     "output_type": "stream",
     "text": [
      "Collecting rasterio\n",
      "  Downloading rasterio-1.4.2-cp310-cp310-manylinux_2_17_x86_64.manylinux2014_x86_64.whl.metadata (9.1 kB)\n",
      "Collecting affine (from rasterio)\n",
      "  Downloading affine-2.4.0-py3-none-any.whl.metadata (4.0 kB)\n",
      "Requirement already satisfied: attrs in /usr/local/lib/python3.10/dist-packages (from rasterio) (24.2.0)\n",
      "Requirement already satisfied: certifi in /usr/local/lib/python3.10/dist-packages (from rasterio) (2024.8.30)\n",
      "Requirement already satisfied: click>=4.0 in /usr/local/lib/python3.10/dist-packages (from rasterio) (8.1.7)\n",
      "Collecting cligj>=0.5 (from rasterio)\n",
      "  Downloading cligj-0.7.2-py3-none-any.whl.metadata (5.0 kB)\n",
      "Requirement already satisfied: numpy>=1.24 in /usr/local/lib/python3.10/dist-packages (from rasterio) (1.26.4)\n",
      "Collecting click-plugins (from rasterio)\n",
      "  Downloading click_plugins-1.1.1-py2.py3-none-any.whl.metadata (6.4 kB)\n",
      "Requirement already satisfied: pyparsing in /usr/local/lib/python3.10/dist-packages (from rasterio) (3.2.0)\n",
      "Downloading rasterio-1.4.2-cp310-cp310-manylinux_2_17_x86_64.manylinux2014_x86_64.whl (22.2 MB)\n",
      "\u001b[2K   \u001b[90m━━━━━━━━━━━━━━━━━━━━━━━━━━━━━━━━━━━━━━━━\u001b[0m \u001b[32m22.2/22.2 MB\u001b[0m \u001b[31m71.1 MB/s\u001b[0m eta \u001b[36m0:00:00\u001b[0m\n",
      "\u001b[?25hDownloading cligj-0.7.2-py3-none-any.whl (7.1 kB)\n",
      "Downloading affine-2.4.0-py3-none-any.whl (15 kB)\n",
      "Downloading click_plugins-1.1.1-py2.py3-none-any.whl (7.5 kB)\n",
      "Installing collected packages: cligj, click-plugins, affine, rasterio\n",
      "Successfully installed affine-2.4.0 click-plugins-1.1.1 cligj-0.7.2 rasterio-1.4.2\n"
     ]
    }
   ],
   "source": [
    "# install and import required packages\n",
    "try:\n",
    "    import rasterio\n",
    "except:\n",
    "    !pip install rasterio\n",
    "    import rasterio"
   ]
  },
  {
   "cell_type": "code",
   "execution_count": 12,
   "metadata": {
    "colab": {
     "base_uri": "https://localhost:8080/",
     "height": 686
    },
    "executionInfo": {
     "elapsed": 407,
     "status": "error",
     "timestamp": 1732272129351,
     "user": {
      "displayName": "hiebschi",
      "userId": "08465626496872948421"
     },
     "user_tz": -60
    },
    "id": "mrhdrfA0XG8p",
    "outputId": "b90d2495-cc64-4b46-c508-45034e763ba8"
   },
   "outputs": [
    {
     "ename": "RasterioIOError",
     "evalue": "D:\\Drohne\\1_OHB\\1_OHB_Normalbetrieb\\1_OHB_September_2021\\Outputs\\GeoTIFF\\Abschnitt_01_tif.tif: No such file or directory",
     "output_type": "error",
     "traceback": [
      "\u001b[0;31m---------------------------------------------------------------------------\u001b[0m",
      "\u001b[0;31mCPLE_OpenFailedError\u001b[0m                      Traceback (most recent call last)",
      "\u001b[0;32mrasterio/_base.pyx\u001b[0m in \u001b[0;36mrasterio._base.DatasetBase.__init__\u001b[0;34m()\u001b[0m\n",
      "\u001b[0;32mrasterio/_base.pyx\u001b[0m in \u001b[0;36mrasterio._base.open_dataset\u001b[0;34m()\u001b[0m\n",
      "\u001b[0;32mrasterio/_err.pyx\u001b[0m in \u001b[0;36mrasterio._err.exc_wrap_pointer\u001b[0;34m()\u001b[0m\n",
      "\u001b[0;31mCPLE_OpenFailedError\u001b[0m: D:\\Drohne\\1_OHB\\1_OHB_Normalbetrieb\\1_OHB_September_2021\\Outputs\\GeoTIFF\\Abschnitt_01_tif.tif: No such file or directory",
      "\nDuring handling of the above exception, another exception occurred:\n",
      "\u001b[0;31mRasterioIOError\u001b[0m                           Traceback (most recent call last)",
      "\u001b[0;32m<ipython-input-12-ddba216a6179>\u001b[0m in \u001b[0;36m<cell line: 4>\u001b[0;34m()\u001b[0m\n\u001b[1;32m      2\u001b[0m \u001b[0mfile_path\u001b[0m \u001b[0;34m=\u001b[0m \u001b[0;34mr\"D:\\Drohne\\1_OHB\\1_OHB_Normalbetrieb\\1_OHB_September_2021\\Outputs\\GeoTIFF\\Abschnitt_01_tif.tif\"\u001b[0m\u001b[0;34m\u001b[0m\u001b[0;34m\u001b[0m\u001b[0m\n\u001b[1;32m      3\u001b[0m \u001b[0;34m\u001b[0m\u001b[0m\n\u001b[0;32m----> 4\u001b[0;31m \u001b[0;32mwith\u001b[0m \u001b[0mrasterio\u001b[0m\u001b[0;34m.\u001b[0m\u001b[0mopen\u001b[0m\u001b[0;34m(\u001b[0m\u001b[0mfile_path\u001b[0m\u001b[0;34m)\u001b[0m \u001b[0;32mas\u001b[0m \u001b[0msrc\u001b[0m\u001b[0;34m:\u001b[0m\u001b[0;34m\u001b[0m\u001b[0;34m\u001b[0m\u001b[0m\n\u001b[0m\u001b[1;32m      5\u001b[0m     \u001b[0mdata\u001b[0m \u001b[0;34m=\u001b[0m \u001b[0msrc\u001b[0m\u001b[0;34m.\u001b[0m\u001b[0mread\u001b[0m\u001b[0;34m(\u001b[0m\u001b[0;34m)\u001b[0m  \u001b[0;31m# raster data as NumPy-Array\u001b[0m\u001b[0;34m\u001b[0m\u001b[0;34m\u001b[0m\u001b[0m\n\u001b[1;32m      6\u001b[0m     \u001b[0mprofile\u001b[0m \u001b[0;34m=\u001b[0m \u001b[0msrc\u001b[0m\u001b[0;34m.\u001b[0m\u001b[0mprofile\u001b[0m  \u001b[0;31m# meta data\u001b[0m\u001b[0;34m\u001b[0m\u001b[0;34m\u001b[0m\u001b[0m\n",
      "\u001b[0;32m/usr/local/lib/python3.10/dist-packages/rasterio/env.py\u001b[0m in \u001b[0;36mwrapper\u001b[0;34m(*args, **kwds)\u001b[0m\n\u001b[1;32m    461\u001b[0m \u001b[0;34m\u001b[0m\u001b[0m\n\u001b[1;32m    462\u001b[0m         \u001b[0;32mwith\u001b[0m \u001b[0menv_ctor\u001b[0m\u001b[0;34m(\u001b[0m\u001b[0msession\u001b[0m\u001b[0;34m=\u001b[0m\u001b[0msession\u001b[0m\u001b[0;34m)\u001b[0m\u001b[0;34m:\u001b[0m\u001b[0;34m\u001b[0m\u001b[0;34m\u001b[0m\u001b[0m\n\u001b[0;32m--> 463\u001b[0;31m             \u001b[0;32mreturn\u001b[0m \u001b[0mf\u001b[0m\u001b[0;34m(\u001b[0m\u001b[0;34m*\u001b[0m\u001b[0margs\u001b[0m\u001b[0;34m,\u001b[0m \u001b[0;34m**\u001b[0m\u001b[0mkwds\u001b[0m\u001b[0;34m)\u001b[0m\u001b[0;34m\u001b[0m\u001b[0;34m\u001b[0m\u001b[0m\n\u001b[0m\u001b[1;32m    464\u001b[0m \u001b[0;34m\u001b[0m\u001b[0m\n\u001b[1;32m    465\u001b[0m     \u001b[0;32mreturn\u001b[0m \u001b[0mwrapper\u001b[0m\u001b[0;34m\u001b[0m\u001b[0;34m\u001b[0m\u001b[0m\n",
      "\u001b[0;32m/usr/local/lib/python3.10/dist-packages/rasterio/__init__.py\u001b[0m in \u001b[0;36mopen\u001b[0;34m(fp, mode, driver, width, height, count, crs, transform, dtype, nodata, sharing, opener, **kwargs)\u001b[0m\n\u001b[1;32m    353\u001b[0m \u001b[0;34m\u001b[0m\u001b[0m\n\u001b[1;32m    354\u001b[0m             \u001b[0;32mif\u001b[0m \u001b[0mmode\u001b[0m \u001b[0;34m==\u001b[0m \u001b[0;34m\"r\"\u001b[0m\u001b[0;34m:\u001b[0m\u001b[0;34m\u001b[0m\u001b[0;34m\u001b[0m\u001b[0m\n\u001b[0;32m--> 355\u001b[0;31m                 \u001b[0mdataset\u001b[0m \u001b[0;34m=\u001b[0m \u001b[0mDatasetReader\u001b[0m\u001b[0;34m(\u001b[0m\u001b[0mpath\u001b[0m\u001b[0;34m,\u001b[0m \u001b[0mdriver\u001b[0m\u001b[0;34m=\u001b[0m\u001b[0mdriver\u001b[0m\u001b[0;34m,\u001b[0m \u001b[0msharing\u001b[0m\u001b[0;34m=\u001b[0m\u001b[0msharing\u001b[0m\u001b[0;34m,\u001b[0m \u001b[0;34m**\u001b[0m\u001b[0mkwargs\u001b[0m\u001b[0;34m)\u001b[0m\u001b[0;34m\u001b[0m\u001b[0;34m\u001b[0m\u001b[0m\n\u001b[0m\u001b[1;32m    356\u001b[0m             \u001b[0;32melif\u001b[0m \u001b[0mmode\u001b[0m \u001b[0;34m==\u001b[0m \u001b[0;34m\"r+\"\u001b[0m\u001b[0;34m:\u001b[0m\u001b[0;34m\u001b[0m\u001b[0;34m\u001b[0m\u001b[0m\n\u001b[1;32m    357\u001b[0m                 dataset = get_writer_for_path(path, driver=driver)(\n",
      "\u001b[0;32mrasterio/_base.pyx\u001b[0m in \u001b[0;36mrasterio._base.DatasetBase.__init__\u001b[0;34m()\u001b[0m\n",
      "\u001b[0;31mRasterioIOError\u001b[0m: D:\\Drohne\\1_OHB\\1_OHB_Normalbetrieb\\1_OHB_September_2021\\Outputs\\GeoTIFF\\Abschnitt_01_tif.tif: No such file or directory"
     ]
    }
   ],
   "source": [
    "# load GeoTIFF\n",
    "file_path = r\"D:\\Drohne\\1_OHB\\1_OHB_Normalbetrieb\\1_OHB_September_2021\\Outputs\\GeoTIFF\\Abschnitt_01_tif.tif\"\n",
    "\n",
    "with rasterio.open(file_path) as src:\n",
    "    data = src.read()  # raster data as NumPy-Array\n",
    "    profile = src.profile  # meta data"
   ]
  },
  {
   "cell_type": "code",
   "execution_count": 11,
   "metadata": {
    "colab": {
     "base_uri": "https://localhost:8080/"
    },
    "executionInfo": {
     "elapsed": 31,
     "status": "ok",
     "timestamp": 1732272055950,
     "user": {
      "displayName": "hiebschi",
      "userId": "08465626496872948421"
     },
     "user_tz": -60
    },
    "id": "PEXYDRXMarNk",
    "outputId": "57b8f35a-c111-4120-ab3f-d5513af39061"
   },
   "outputs": [
    {
     "name": "stdout",
     "output_type": "stream",
     "text": [
      "Error: Could not open the GeoTIFF file. D:\\Drohne\\1_OHB\\1_OHB_Normalbetrieb\\1_OHB_September_2021\\Outputs\\GeoTIFF\\Abschnitt_01_tif.tif: No such file or directory\n"
     ]
    }
   ],
   "source": [
    "try:\n",
    "    with rasterio.open(file_path) as src:\n",
    "        data = src.read()  # raster data as NumPy-Array\n",
    "        profile = src.profile  # meta data\n",
    "except FileNotFoundError:\n",
    "    print(f\"Error: File not found at '{file_path}'. Please check the path.\")\n",
    "except rasterio.errors.RasterioIOError as e:\n",
    "    print(f\"Error: Could not open the GeoTIFF file. {e}\")\n",
    "except Exception as e:\n",
    "    print(f\"An unexpected error occurred: {e}\")"
   ]
  },
  {
   "cell_type": "code",
   "execution_count": 13,
   "metadata": {
    "colab": {
     "base_uri": "https://localhost:8080/"
    },
    "executionInfo": {
     "elapsed": 407,
     "status": "ok",
     "timestamp": 1732272285584,
     "user": {
      "displayName": "hiebschi",
      "userId": "08465626496872948421"
     },
     "user_tz": -60
    },
    "id": "M4AuOPqOddkE",
    "outputId": "efd132c7-0902-4cda-973d-9792322b06da"
   },
   "outputs": [
    {
     "name": "stdout",
     "output_type": "stream",
     "text": [
      "Error: File not found at: D:\\Drohne\\1_OHB\\1_OHB_Normalbetrieb\\1_OHB_September_2021\\Outputs\\GeoTIFF\\Abschnitt_01.tif\n",
      "Error opening file: D:\\Drohne\\1_OHB\\1_OHB_Normalbetrieb\\1_OHB_September_2021\\Outputs\\GeoTIFF\\Abschnitt_01.tif: No such file or directory\n",
      "Current working directory: /content\n"
     ]
    }
   ],
   "source": [
    "import os\n",
    "import rasterio\n",
    "\n",
    "# Load GeoTIFF\n",
    "file_path = r\"D:\\Drohne\\1_OHB\\1_OHB_Normalbetrieb\\1_OHB_September_2021\\Outputs\\GeoTIFF\\Abschnitt_01.tif\"\n",
    "\n",
    "# 1. Check if the file exists:\n",
    "if not os.path.exists(file_path):\n",
    "    print(f\"Error: File not found at: {file_path}\")\n",
    "    # If the file doesn't exist, double-check the path or find the correct location.\n",
    "\n",
    "# 2. Check file permissions (if applicable):\n",
    "# If the file exists but you still get an error, it might be due to permissions.\n",
    "# Check if the script has the necessary permissions to read the file.\n",
    "# (This might not be the issue in most cases)\n",
    "\n",
    "# 3. Normalize the file path (optional):\n",
    "file_path = os.path.normpath(file_path)\n",
    "\n",
    "# Try opening the file with rasterio\n",
    "try:\n",
    "    with rasterio.open(file_path) as src:\n",
    "        data = src.read()  # raster data as NumPy-Array\n",
    "        profile = src.profile  # meta data\n",
    "except rasterio.errors.RasterioIOError as e:\n",
    "    print(f\"Error opening file: {e}\")\n",
    "    # If you still get an error, try printing the working directory to check if it's different from where the file is expected.\n",
    "    print(f\"Current working directory: {os.getcwd()}\")"
   ]
  },
  {
   "cell_type": "code",
   "execution_count": null,
   "metadata": {
    "id": "d2ZBRDtAeWPs"
   },
   "outputs": [],
   "source": []
  }
 ],
 "metadata": {
  "colab": {
   "authorship_tag": "ABX9TyMwZvyxw+i1C4or5J/LRZTJ",
   "provenance": []
  },
  "kernelspec": {
   "display_name": "test_environment",
   "language": "python",
   "name": "python3"
  },
  "language_info": {
   "name": "python",
   "version": "3.13.0"
  }
 },
 "nbformat": 4,
 "nbformat_minor": 0
}
