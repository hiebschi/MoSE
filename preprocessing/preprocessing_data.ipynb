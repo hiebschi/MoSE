{
 "cells": [
  {
   "cell_type": "markdown",
   "metadata": {},
   "source": [
    "# Preprocessing data (functionized)"
   ]
  },
  {
   "cell_type": "markdown",
   "metadata": {},
   "source": [
    "## 1. Preparations\n",
    "### 1.1 Import required packages"
   ]
  },
  {
   "cell_type": "code",
   "execution_count": 9,
   "metadata": {},
   "outputs": [],
   "source": [
    "# import rasterio\n",
    "try:\n",
    "    import rasterio\n",
    "except:\n",
    "    %pip install rasterio\n",
    "    import rasterio\n",
    "\n",
    "import rasterio.features\n",
    "import rasterio.warp\n",
    "from rasterio.windows import Window\n",
    "from rasterio.features import geometry_mask"
   ]
  },
  {
   "cell_type": "code",
   "execution_count": 24,
   "metadata": {},
   "outputs": [],
   "source": [
    "import os\n",
    "import numpy as np\n",
    "import geopandas as gpd\n",
    "import matplotlib.pyplot as plt"
   ]
  },
  {
   "cell_type": "markdown",
   "metadata": {},
   "source": [
    "### 1.2 Set directories and file paths"
   ]
  },
  {
   "cell_type": "code",
   "execution_count": 14,
   "metadata": {},
   "outputs": [],
   "source": [
    "# input directories\n",
    "# raster data\n",
    "gtif_dir = r\"D:\\Drohne\\1_OHB\\1_OHB_Normalbetrieb\\3_OHB_Juli_2024\\Outputs\\RGB\\GeoTIFF\"\n",
    "# class labels\n",
    "shp_dir = r\"C:\\Users\\simon\\Meine Ablage\\Dokumente.GD\\FS06 SS24\\BACHELORARBEIT\\MoSE\\data\\shapefiles\"\n",
    "\n",
    "# output directories for patches\n",
    "# as GeoTIFFs\n",
    "output_gtif_dir = r\"D:\\MoSE\\preprocessing\\gtif_outputs\"\n",
    "# as NumpyArrays\n",
    "output_nparr_dir = r\"D:\\MoSE\\preprocessing\\nparr_outputs\""
   ]
  },
  {
   "cell_type": "markdown",
   "metadata": {},
   "source": [
    "## 2. Create Patches\n",
    "### 2.1 Set Hyperparameters"
   ]
  },
  {
   "cell_type": "code",
   "execution_count": 54,
   "metadata": {},
   "outputs": [],
   "source": [
    "# exact paths to files\n",
    "# raster data\n",
    "gtif_name = \"A01\"\n",
    "gtif_path = gtif_dir + r\"\\OHB_Abschnitt_01.tif\"\n",
    "# class labels\n",
    "shp_path = shp_dir + r\"\\GSK_24_WGS84.shp\""
   ]
  },
  {
   "cell_type": "code",
   "execution_count": 12,
   "metadata": {},
   "outputs": [],
   "source": [
    "# parameters for patches\n",
    "PATCH_SIZE = 512 # 512x512 pixel per patch\n",
    "STRIDE = 256 # 256 pixel overlap between patches"
   ]
  },
  {
   "cell_type": "markdown",
   "metadata": {},
   "source": [
    "### 2.2 Create the patch loop"
   ]
  },
  {
   "cell_type": "code",
   "execution_count": null,
   "metadata": {},
   "outputs": [
    {
     "ename": "KeyboardInterrupt",
     "evalue": "",
     "output_type": "error",
     "traceback": [
      "\u001b[1;31m---------------------------------------------------------------------------\u001b[0m",
      "\u001b[1;31mKeyboardInterrupt\u001b[0m                         Traceback (most recent call last)",
      "Cell \u001b[1;32mIn[50], line 2\u001b[0m\n\u001b[0;32m      1\u001b[0m \u001b[38;5;66;03m# 1. Load the GeoTIFF (orthophoto)\u001b[39;00m\n\u001b[1;32m----> 2\u001b[0m \u001b[38;5;28;01mwith\u001b[39;00m \u001b[43mrasterio\u001b[49m\u001b[38;5;241m.\u001b[39mopen(gtif_path) \u001b[38;5;28;01mas\u001b[39;00m src:\n\u001b[0;32m      3\u001b[0m     nparr_data \u001b[38;5;241m=\u001b[39m src\u001b[38;5;241m.\u001b[39mread() \u001b[38;5;66;03m# reads raster data of the GeoTIFF as NumPy-Array\u001b[39;00m\n\u001b[0;32m      4\u001b[0m     gtif_width, gtif_height \u001b[38;5;241m=\u001b[39m src\u001b[38;5;241m.\u001b[39mwidth, src\u001b[38;5;241m.\u001b[39mheight\n",
      "File \u001b[1;32m<stringsource>:69\u001b[0m, in \u001b[0;36mcfunc.to_py.__Pyx_CFunc_b0409f__29_pydevd_sys_monitoring_cython_object__lParen__etc_to_py_4code_4line.wrap\u001b[1;34m()\u001b[0m\n",
      "File \u001b[1;32m_pydevd_sys_monitoring\\\\_pydevd_sys_monitoring_cython.pyx:1465\u001b[0m, in \u001b[0;36m_pydevd_sys_monitoring_cython._line_event\u001b[1;34m()\u001b[0m\n",
      "File \u001b[1;32m_pydevd_sys_monitoring\\\\_pydevd_sys_monitoring_cython.pyx:1507\u001b[0m, in \u001b[0;36m_pydevd_sys_monitoring_cython._internal_line_event\u001b[1;34m()\u001b[0m\n",
      "File \u001b[1;32m_pydevd_sys_monitoring\\\\_pydevd_sys_monitoring_cython.pyx:1308\u001b[0m, in \u001b[0;36m_pydevd_sys_monitoring_cython._stop_on_breakpoint\u001b[1;34m()\u001b[0m\n",
      "File \u001b[1;32m_pydevd_sys_monitoring\\\\_pydevd_sys_monitoring_cython.pyx:1945\u001b[0m, in \u001b[0;36m_pydevd_sys_monitoring_cython._do_wait_suspend\u001b[1;34m()\u001b[0m\n",
      "File \u001b[1;32mc:\\Users\\simon\\anaconda3\\envs\\test_environment\\Lib\\site-packages\\debugpy\\_vendored\\pydevd\\pydevd.py:2185\u001b[0m, in \u001b[0;36mPyDB.do_wait_suspend\u001b[1;34m(self, thread, frame, event, arg, exception_type)\u001b[0m\n\u001b[0;32m   2182\u001b[0m             from_this_thread\u001b[38;5;241m.\u001b[39mappend(frame_custom_thread_id)\n\u001b[0;32m   2184\u001b[0m     \u001b[38;5;28;01mwith\u001b[39;00m \u001b[38;5;28mself\u001b[39m\u001b[38;5;241m.\u001b[39m_threads_suspended_single_notification\u001b[38;5;241m.\u001b[39mnotify_thread_suspended(thread_id, thread, stop_reason):\n\u001b[1;32m-> 2185\u001b[0m         keep_suspended \u001b[38;5;241m=\u001b[39m \u001b[38;5;28;43mself\u001b[39;49m\u001b[38;5;241;43m.\u001b[39;49m\u001b[43m_do_wait_suspend\u001b[49m\u001b[43m(\u001b[49m\u001b[43mthread\u001b[49m\u001b[43m,\u001b[49m\u001b[43m \u001b[49m\u001b[43mframe\u001b[49m\u001b[43m,\u001b[49m\u001b[43m \u001b[49m\u001b[43mevent\u001b[49m\u001b[43m,\u001b[49m\u001b[43m \u001b[49m\u001b[43marg\u001b[49m\u001b[43m,\u001b[49m\u001b[43m \u001b[49m\u001b[43mtrace_suspend_type\u001b[49m\u001b[43m,\u001b[49m\u001b[43m \u001b[49m\u001b[43mfrom_this_thread\u001b[49m\u001b[43m,\u001b[49m\u001b[43m \u001b[49m\u001b[43mframes_tracker\u001b[49m\u001b[43m)\u001b[49m\n\u001b[0;32m   2187\u001b[0m frames_list \u001b[38;5;241m=\u001b[39m \u001b[38;5;28;01mNone\u001b[39;00m\n\u001b[0;32m   2189\u001b[0m \u001b[38;5;28;01mif\u001b[39;00m keep_suspended:\n\u001b[0;32m   2190\u001b[0m     \u001b[38;5;66;03m# This means that we should pause again after a set next statement.\u001b[39;00m\n",
      "File \u001b[1;32mc:\\Users\\simon\\anaconda3\\envs\\test_environment\\Lib\\site-packages\\debugpy\\_vendored\\pydevd\\pydevd.py:2254\u001b[0m, in \u001b[0;36mPyDB._do_wait_suspend\u001b[1;34m(self, thread, frame, event, arg, trace_suspend_type, from_this_thread, frames_tracker)\u001b[0m\n\u001b[0;32m   2251\u001b[0m                 queue\u001b[38;5;241m.\u001b[39mput(internal_cmd)\n\u001b[0;32m   2252\u001b[0m                 wait_timeout \u001b[38;5;241m=\u001b[39m TIMEOUT_FAST\n\u001b[1;32m-> 2254\u001b[0m         \u001b[43mnotify_event\u001b[49m\u001b[38;5;241;43m.\u001b[39;49m\u001b[43mwait\u001b[49m\u001b[43m(\u001b[49m\u001b[43mwait_timeout\u001b[49m\u001b[43m)\u001b[49m\n\u001b[0;32m   2255\u001b[0m         notify_event\u001b[38;5;241m.\u001b[39mclear()\n\u001b[0;32m   2257\u001b[0m \u001b[38;5;28;01mfinally\u001b[39;00m:\n",
      "File \u001b[1;32mc:\\Users\\simon\\anaconda3\\envs\\test_environment\\Lib\\threading.py:659\u001b[0m, in \u001b[0;36mEvent.wait\u001b[1;34m(self, timeout)\u001b[0m\n\u001b[0;32m    657\u001b[0m signaled \u001b[38;5;241m=\u001b[39m \u001b[38;5;28mself\u001b[39m\u001b[38;5;241m.\u001b[39m_flag\n\u001b[0;32m    658\u001b[0m \u001b[38;5;28;01mif\u001b[39;00m \u001b[38;5;129;01mnot\u001b[39;00m signaled:\n\u001b[1;32m--> 659\u001b[0m     signaled \u001b[38;5;241m=\u001b[39m \u001b[38;5;28;43mself\u001b[39;49m\u001b[38;5;241;43m.\u001b[39;49m\u001b[43m_cond\u001b[49m\u001b[38;5;241;43m.\u001b[39;49m\u001b[43mwait\u001b[49m\u001b[43m(\u001b[49m\u001b[43mtimeout\u001b[49m\u001b[43m)\u001b[49m\n\u001b[0;32m    660\u001b[0m \u001b[38;5;28;01mreturn\u001b[39;00m signaled\n",
      "File \u001b[1;32mc:\\Users\\simon\\anaconda3\\envs\\test_environment\\Lib\\threading.py:363\u001b[0m, in \u001b[0;36mCondition.wait\u001b[1;34m(self, timeout)\u001b[0m\n\u001b[0;32m    361\u001b[0m \u001b[38;5;28;01melse\u001b[39;00m:\n\u001b[0;32m    362\u001b[0m     \u001b[38;5;28;01mif\u001b[39;00m timeout \u001b[38;5;241m>\u001b[39m \u001b[38;5;241m0\u001b[39m:\n\u001b[1;32m--> 363\u001b[0m         gotit \u001b[38;5;241m=\u001b[39m \u001b[43mwaiter\u001b[49m\u001b[38;5;241;43m.\u001b[39;49m\u001b[43macquire\u001b[49m\u001b[43m(\u001b[49m\u001b[38;5;28;43;01mTrue\u001b[39;49;00m\u001b[43m,\u001b[49m\u001b[43m \u001b[49m\u001b[43mtimeout\u001b[49m\u001b[43m)\u001b[49m\n\u001b[0;32m    364\u001b[0m     \u001b[38;5;28;01melse\u001b[39;00m:\n\u001b[0;32m    365\u001b[0m         gotit \u001b[38;5;241m=\u001b[39m waiter\u001b[38;5;241m.\u001b[39macquire(\u001b[38;5;28;01mFalse\u001b[39;00m)\n",
      "\u001b[1;31mKeyboardInterrupt\u001b[0m: "
     ]
    }
   ],
   "source": [
    "# 1. Load the GeoTIFF (orthophoto)\n",
    "with rasterio.open(gtif_path) as src:\n",
    "    nparr_data = src.read() # reads raster data of the GeoTIFF as NumPy-Array\n",
    "    gtif_width, gtif_height = src.width, src.height\n",
    "    gtif_transform = src.transform  # transformation matrix (whole image)\n",
    "    gtif_crs = src.crs  # coordinate system\n",
    "    gtif_meta = src.meta.copy() # original metadata like coordinate system, resolution, datatype\n",
    "    gtif_bounds = src.bounds\n",
    "\n",
    "    # 2. Load labels and transform in crs of the orthophoto\n",
    "    labels = gpd.read_file(shp_path)\n",
    "    labels = labels.to_crs(gtif_crs)\n",
    "\n",
    "    # 3. LOOP for patches\n",
    "    # set patch-id to zero\n",
    "    patch_id = 0 # unique counter\n",
    "\n",
    "    # Loop over the image in steps of STRIDE (overlapping patches if STRIDE < PATCH_SIZE)\n",
    "    for y in range(0, gtif_height, STRIDE): # vertical movement y (start point: 0, end point: height, steps: STRIDE)\n",
    "        for x in range(0, gtif_width, STRIDE): # horizontal movement x (start point: 0, end point: width, steps: STRIDE)\n",
    "            \n",
    "            # 3.1 Define window (patch)\n",
    "            window = Window(x, y, PATCH_SIZE, PATCH_SIZE) \n",
    "            # defines a patch/window with origin (x, y) and a size of PATCH_SIZExPATCH_SIZE \n",
    "\n",
    "            # 3.2 Calculate the transformation matrix for this patch\n",
    "            patch_transform = src.window_transform(window) \n",
    "            # this transformation matrix describes how the pixel coordinates of this window can be converted into \n",
    "            # the world coordinates of the image (geocoordinates)\n",
    "\n",
    "            # 3.3 Extract raster data for the patch\n",
    "            patch_data = src.read(window=window)\n",
    "            # patch_data should be an array with shape [bands, PATCH_SIZE, PATCH_SIZE]\n",
    "            \n",
    "            # 3.4 Skip incomplete patches\n",
    "            # if the calculated patch is partially outside the image boundaries (patch is smaller than PATCH_SIZE),\n",
    "            # skip the patch to avoid errors\n",
    "            if patch_data.shape[1] < PATCH_SIZE or patch_data.shape[2] < PATCH_SIZE:\n",
    "                continue\n",
    "\n",
    "            # 4. Create masks for the labels\n",
    "            \n",
    "            # 4.1 Calculate geographical coordinates (boundaries) of current patch \n",
    "            patch_bounds = rasterio.windows.bounds(window, gtif_transform) # with orthophoto transformation matrix \n",
    "            \n",
    "            # 4.2 Filters label polygons which are inside the patch\n",
    "            patch_labels = labels.cx[ # labels.cx (pandas) > filters geometries by coordinates\n",
    "                patch_bounds[0]:patch_bounds[2],  # min_x:max_x\n",
    "                patch_bounds[1]:patch_bounds[3],  # min_y:max_y\n",
    "            ]\n",
    "\n",
    "            # 4.3 Create mask\n",
    "            mask = None # Reset mask\n",
    "            if not patch_labels.empty: # if there are any labels in this patch \n",
    "                mask = geometry_mask( # creates binary mask (1 = inside polygon, 0 = outside)\n",
    "                    [geom for geom in patch_labels.geometry], # list of geometries\n",
    "                    transform=patch_transform, # transform matrix for this patch\n",
    "                    invert=True, # pixel inside the geometries (labels) = 1, pixel outside (background) = 0\n",
    "                    out_shape=(PATCH_SIZE, PATCH_SIZE), # size of the mask\n",
    "                )\n",
    "\n",
    "            # 5. Save patch\n",
    "            # 5.1 Save meta data of the patch\n",
    "            patch_meta = gtif_meta.copy()\n",
    "            patch_meta.update({\n",
    "                \"height\": PATCH_SIZE,\n",
    "                \"width\": PATCH_SIZE,\n",
    "                \"transform\": patch_transform,\n",
    "            })\n",
    "\n",
    "            # 5.2 Save patch as GeoTIFF\n",
    "            patch_path = os.path.join(output_gtif_dir, f\"{gtif_name}_patch_{patch_id}.tif\")\n",
    "            with rasterio.open(patch_path, \"w\", **patch_meta) as dst:\n",
    "                dst.write(patch_data)  # orthophoto\n",
    "                if mask is not None:\n",
    "                    dst.write(mask.astype(\"uint8\"), 1)  # label mask\n",
    "\n",
    "            # 5.3 Save patch as NumpyArray\n",
    "            npy_data = {\"image\": patch_data}\n",
    "            if mask is not None:\n",
    "                npy_data[\"mask\"] = mask\n",
    "            np.save(os.path.join(output_nparr_dir, f\"{gtif_name}_patch_{patch_id}.npy\"), npy_data)\n",
    "\n",
    "            patch_id += 1\n",
    "    print(f\"{patch_id} Patches wurden erstellt und gespeichert in {output_gtif_dir}.\")"
   ]
  },
  {
   "cell_type": "code",
   "execution_count": 51,
   "metadata": {},
   "outputs": [
    {
     "name": "stdout",
     "output_type": "stream",
     "text": [
      "6336 Patches wurden erstellt und gespeichert in D:\\MoSE\\preprocessing\\gtif_outputs.\n"
     ]
    }
   ],
   "source": [
    "print(f\"{patch_id} Patches wurden erstellt und gespeichert in {output_gtif_dir}.\")"
   ]
  },
  {
   "cell_type": "code",
   "execution_count": 52,
   "metadata": {},
   "outputs": [
    {
     "data": {
      "image/png": "[encoded data removed]",
      "text/plain": [
       "<Figure size 640x480 with 1 Axes>"
      ]
     },
     "metadata": {},
     "output_type": "display_data"
    }
   ],
   "source": [
    "import matplotlib.pyplot as plt\n",
    "\n",
    "plt.imshow(mask, cmap=\"gray\")\n",
    "plt.title(\"Rasterized Mask\")\n",
    "plt.show()\n"
   ]
  },
  {
   "cell_type": "code",
   "execution_count": null,
   "metadata": {},
   "outputs": [
    {
     "data": {
      "image/png": "[encoded data removed]",
      "text/plain": [
       "<Figure size 640x480 with 2 Axes>"
      ]
     },
     "metadata": {},
     "output_type": "display_data"
    }
   ],
   "source": []
  },
  {
   "cell_type": "markdown",
   "metadata": {},
   "source": [
    "### 2.3 Check the orthophoto"
   ]
  },
  {
   "cell_type": "code",
   "execution_count": null,
   "metadata": {},
   "outputs": [
    {
     "data": {
      "text/plain": [
       "{'driver': 'GTiff',\n",
       " 'dtype': 'uint8',\n",
       " 'nodata': None,\n",
       " 'width': 17270,\n",
       " 'height': 25023,\n",
       " 'count': 4,\n",
       " 'crs': CRS.from_wkt('GEOGCS[\"WGS 84\",DATUM[\"WGS_1984\",SPHEROID[\"WGS 84\",6378137,298.257223563,AUTHORITY[\"EPSG\",\"7030\"]],TOWGS84[0,0,0,0,0,0,0],AUTHORITY[\"EPSG\",\"6326\"]],PRIMEM[\"Greenwich\",0,AUTHORITY[\"EPSG\",\"8901\"]],UNIT[\"degree\",0.0174532925199433,AUTHORITY[\"EPSG\",\"9122\"]],AXIS[\"Latitude\",NORTH],AXIS[\"Longitude\",EAST],AUTHORITY[\"EPSG\",\"4326\"]]'),\n",
       " 'transform': Affine(3.2633900000001453e-07, 0.0, 11.263241617518593,\n",
       "        0.0, -2.1580999999988398e-07, 48.750540169360406)}"
      ]
     },
     "execution_count": 17,
     "metadata": {},
     "output_type": "execute_result"
    }
   ],
   "source": [
    "# check meta data\n",
    "gtif_meta"
   ]
  },
  {
   "cell_type": "code",
   "execution_count": 22,
   "metadata": {},
   "outputs": [
    {
     "data": {
      "text/plain": [
       "((4, 25023, 17270), numpy.ndarray, dtype('uint8'))"
      ]
     },
     "execution_count": 22,
     "metadata": {},
     "output_type": "execute_result"
    }
   ],
   "source": [
    "# check shape and datatype of the data\n",
    "gtif_data.shape, type(gtif_data), gtif_data.dtype"
   ]
  },
  {
   "cell_type": "code",
   "execution_count": null,
   "metadata": {},
   "outputs": [
    {
     "data": {
      "text/plain": [
       "(CRS.from_wkt('GEOGCS[\"WGS 84\",DATUM[\"WGS_1984\",SPHEROID[\"WGS 84\",6378137,298.257223563,AUTHORITY[\"EPSG\",\"7030\"]],TOWGS84[0,0,0,0,0,0,0],AUTHORITY[\"EPSG\",\"6326\"]],PRIMEM[\"Greenwich\",0,AUTHORITY[\"EPSG\",\"8901\"]],UNIT[\"degree\",0.0174532925199433,AUTHORITY[\"EPSG\",\"9122\"]],AXIS[\"Latitude\",NORTH],AXIS[\"Longitude\",EAST],AUTHORITY[\"EPSG\",\"4326\"]]'),\n",
       " BoundingBox(left=11.263241617518593, bottom=48.74513995573041, right=11.268877492048594, top=48.750540169360406),\n",
       " 25023,\n",
       " 17270)"
      ]
     },
     "execution_count": 23,
     "metadata": {},
     "output_type": "execute_result"
    }
   ],
   "source": [
    "# check geometrical properties\n",
    "gtif_crs, gtif_bounds, gtif_height, gtif_width"
   ]
  },
  {
   "cell_type": "code",
   "execution_count": 26,
   "metadata": {},
   "outputs": [],
   "source": [
    "# # plot the first band\n",
    "# plt.imshow(gtif_data[0], cmap='gray')  # visalization with grey values\n",
    "# plt.colorbar(label='pixel values')\n",
    "# plt.title(\"first band\")\n",
    "# plt.show()"
   ]
  }
 ],
 "metadata": {
  "kernelspec": {
   "display_name": "test_environment",
   "language": "python",
   "name": "python3"
  },
  "language_info": {
   "codemirror_mode": {
    "name": "ipython",
    "version": 3
   },
   "file_extension": ".py",
   "mimetype": "text/x-python",
   "name": "python",
   "nbconvert_exporter": "python",
   "pygments_lexer": "ipython3",
   "version": "3.13.0"
  }
 },
 "nbformat": 4,
 "nbformat_minor": 2
}
